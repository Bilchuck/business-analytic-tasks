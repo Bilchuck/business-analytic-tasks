{
 "cells": [
  {
   "cell_type": "markdown",
   "metadata": {},
   "source": [
    "# Homework 2"
   ]
  },
  {
   "cell_type": "code",
   "execution_count": 109,
   "metadata": {},
   "outputs": [],
   "source": [
    "import numpy as np\n",
    "import matplotlib.pyplot as plt\n",
    "import pandas as pd\n",
    "from sklearn.linear_model import LinearRegression\n",
    "from sklearn.metrics import accuracy_score\n",
    "from sklearn.metrics import mean_squared_error\n",
    "\n",
    "formatNumber = lambda n: '{:,}'.format(n)\n",
    "                          \n",
    "def toCategoricDf(df, categorical_cols):\n",
    "    categoricalColsDict = {}\n",
    "    for c in categorical_cols:\n",
    "        diffs = np.unique(df[c])\n",
    "        categoricalColsDict[c] = []\n",
    "        for d in diffs:\n",
    "            cat_col_name = f\"{c}_{d}\"\n",
    "            df[cat_col_name] = df[c] == d\n",
    "            categoricalColsDict[c].append(cat_col_name)\n",
    "    return categoricalColsDict, df\n",
    "                          \n",
    "def linearRegressionWithLogs(df, target_col, param_cols, categ_cols=[], fit_intercept=True):\n",
    "    df = df.copy()\n",
    "    model = LinearRegression(fit_intercept=fit_intercept)\n",
    "    ys = df[target_col]\n",
    "\n",
    "    cols = param_cols\n",
    "    if len(categ_cols) > 0:\n",
    "        categoricalColsDict, df = toCategoricDf(df, categ_cols)\n",
    "        for c in categ_cols:\n",
    "            col_names = categoricalColsDict[c]\n",
    "            cols = [*cols, *col_names]\n",
    "                          \n",
    "    X = np.array(df[cols])\n",
    "\n",
    "    model.fit(X, ys)\n",
    "    preds = model.predict(X)\n",
    "    cofs = model.coef_\n",
    "\n",
    "    formula = \"  +  \".join([f\"{ formatNumber(cofs[i]) } * { cols[i] }\" for i in range(len(cols))])\n",
    "    if fit_intercept:\n",
    "        formula += f\" + {formatNumber(model.intercept_)}\"\n",
    "\n",
    "    mse = mean_squared_error(ys, preds)\n",
    "    mse = formatNumber(mse)\n",
    "\n",
    "    return model, mse, formula\n"
   ]
  },
  {
   "cell_type": "markdown",
   "metadata": {},
   "source": [
    "## Task 1"
   ]
  },
  {
   "cell_type": "code",
   "execution_count": 47,
   "metadata": {},
   "outputs": [
    {
     "data": {
      "text/html": [
       "<div>\n",
       "<style scoped>\n",
       "    .dataframe tbody tr th:only-of-type {\n",
       "        vertical-align: middle;\n",
       "    }\n",
       "\n",
       "    .dataframe tbody tr th {\n",
       "        vertical-align: top;\n",
       "    }\n",
       "\n",
       "    .dataframe thead th {\n",
       "        text-align: right;\n",
       "    }\n",
       "</style>\n",
       "<table border=\"1\" class=\"dataframe\">\n",
       "  <thead>\n",
       "    <tr style=\"text-align: right;\">\n",
       "      <th></th>\n",
       "      <th>Unnamed: 0</th>\n",
       "      <th>sales</th>\n",
       "      <th>area</th>\n",
       "      <th>cluster</th>\n",
       "      <th>bread</th>\n",
       "      <th>parking</th>\n",
       "    </tr>\n",
       "  </thead>\n",
       "  <tbody>\n",
       "    <tr>\n",
       "      <th>0</th>\n",
       "      <td>0</td>\n",
       "      <td>1040090.60</td>\n",
       "      <td>107.0</td>\n",
       "      <td>4</td>\n",
       "      <td>1</td>\n",
       "      <td>1</td>\n",
       "    </tr>\n",
       "    <tr>\n",
       "      <th>1</th>\n",
       "      <td>1</td>\n",
       "      <td>795406.94</td>\n",
       "      <td>109.0</td>\n",
       "      <td>3</td>\n",
       "      <td>0</td>\n",
       "      <td>1</td>\n",
       "    </tr>\n",
       "    <tr>\n",
       "      <th>2</th>\n",
       "      <td>2</td>\n",
       "      <td>752838.25</td>\n",
       "      <td>112.0</td>\n",
       "      <td>3</td>\n",
       "      <td>1</td>\n",
       "      <td>0</td>\n",
       "    </tr>\n",
       "    <tr>\n",
       "      <th>3</th>\n",
       "      <td>3</td>\n",
       "      <td>808349.40</td>\n",
       "      <td>130.0</td>\n",
       "      <td>3</td>\n",
       "      <td>1</td>\n",
       "      <td>0</td>\n",
       "    </tr>\n",
       "    <tr>\n",
       "      <th>4</th>\n",
       "      <td>4</td>\n",
       "      <td>737828.00</td>\n",
       "      <td>150.0</td>\n",
       "      <td>2</td>\n",
       "      <td>0</td>\n",
       "      <td>1</td>\n",
       "    </tr>\n",
       "  </tbody>\n",
       "</table>\n",
       "</div>"
      ],
      "text/plain": [
       "   Unnamed: 0       sales   area  cluster  bread  parking\n",
       "0           0  1040090.60  107.0        4      1        1\n",
       "1           1   795406.94  109.0        3      0        1\n",
       "2           2   752838.25  112.0        3      1        0\n",
       "3           3   808349.40  130.0        3      1        0\n",
       "4           4   737828.00  150.0        2      0        1"
      ]
     },
     "execution_count": 47,
     "metadata": {},
     "output_type": "execute_result"
    }
   ],
   "source": [
    "df = pd.read_csv('./hw2_data/sales_3.csv')\n",
    "df.head()"
   ]
  },
  {
   "cell_type": "markdown",
   "metadata": {},
   "source": [
    "Let's plot how area, cluster, bread and parking influence sales value."
   ]
  },
  {
   "cell_type": "code",
   "execution_count": 49,
   "metadata": {},
   "outputs": [
    {
     "data": {
      "image/png": "[encoded data removed]",
      "text/plain": [
       "<matplotlib.figure.Figure at 0x1a175992b0>"
      ]
     },
     "metadata": {},
     "output_type": "display_data"
    }
   ],
   "source": [
    "fig, axes = plt.subplots(1,4)\n",
    "\n",
    "fig.set_size_inches((20,4))\n",
    "\n",
    "for i in range(4):\n",
    "    colName = df.columns[i+2]\n",
    "    axes[i].set_title(f\"Sales / {colName}\")\n",
    "    axes[i].plot(df[colName], df['sales'], 'r.')\n",
    "    \n",
    "plt.show()"
   ]
  },
  {
   "cell_type": "markdown",
   "metadata": {},
   "source": [
    "We see that there are relations for all properties. For some it is less and for some bigger."
   ]
  },
  {
   "cell_type": "code",
   "execution_count": 50,
   "metadata": {},
   "outputs": [
    {
     "name": "stdout",
     "output_type": "stream",
     "text": [
      "Model 1\n",
      "mse=6,956,388,081.792087\n",
      "formula=4,160.7805554313345 * area  +  -652,714.4024427098 * cluster_0  +  -310,758.3259448471 * cluster_1  +  -138,791.26161691287 * cluster_2  +  95,550.50139723909 * cluster_3  +  373,103.6887895489 * cluster_4  +  633,609.7998176819 * cluster_5  +  864.1243386368811 * bread_0  +  -864.1243386363573 * bread_1  +  -9,992.296998116479 * parking_0  +  9,992.29699811677 * parking_1 + 0.0\n",
      "\n",
      "\n",
      "Model 2\n",
      "mse=6,988,764,343.330648\n",
      "formula=4,150.734300902599 * area  +  -663,722.2165524211 * cluster_0  +  -321,080.280247674 * cluster_1  +  -142,960.65597170804 * cluster_2  +  96,455.67004750397 * cluster_3  +  382,106.337854711 * cluster_4  +  649,201.1448695882 * cluster_5  +  5,081.614325392981 * bread_0  +  -5,081.614325392923 * bread_1 + 0.0\n",
      "\n",
      "\n",
      "Model 3\n",
      "mse=6,999,698,561.893861\n",
      "formula=4,156.458647417639 * area  +  -659,278.001420337 * cluster_0  +  -318,031.3020631992 * cluster_1  +  -139,510.06251281677 * cluster_2  +  94,916.8704823364 * cluster_3  +  377,383.09349345224 * cluster_4  +  644,519.4020205635 * cluster_5 + 0.0\n"
     ]
    }
   ],
   "source": [
    "model1, mse, formula = linearRegressionWithLogs(df, target_col='sales', param_cols=['area'], categ_cols=['cluster', 'bread', 'parking'])\n",
    "print(\"Model 1\")\n",
    "print(f\"mse={mse}\")\n",
    "print(f\"formula={formula}\")\n",
    "\n",
    "model2, mse, formula = linearRegressionWithLogs(df, target_col='sales', param_cols=['area'], categ_cols=['cluster', 'bread'])\n",
    "print(\"\\n\\nModel 2\")\n",
    "print(f\"mse={mse}\")\n",
    "print(f\"formula={formula}\")\n",
    "\n",
    "model3, mse, formula = linearRegressionWithLogs(df, target_col='sales', param_cols=['area'], categ_cols=['cluster'])\n",
    "print(\"\\n\\nModel 3\")\n",
    "print(f\"mse={mse}\")\n",
    "print(f\"formula={formula}\")"
   ]
  },
  {
   "cell_type": "markdown",
   "metadata": {},
   "source": [
    "#### Conclusion"
   ]
  },
  {
   "cell_type": "markdown",
   "metadata": {},
   "source": [
    "I would decide to use third one model (sales = area + cluster) because it's error measurment is just little big bigger than for other models but it is much simpler and represents dependency well. "
   ]
  },
  {
   "cell_type": "markdown",
   "metadata": {},
   "source": [
    "## Task 2"
   ]
  },
  {
   "cell_type": "code",
   "execution_count": 63,
   "metadata": {},
   "outputs": [
    {
     "data": {
      "text/html": [
       "<div>\n",
       "<style scoped>\n",
       "    .dataframe tbody tr th:only-of-type {\n",
       "        vertical-align: middle;\n",
       "    }\n",
       "\n",
       "    .dataframe tbody tr th {\n",
       "        vertical-align: top;\n",
       "    }\n",
       "\n",
       "    .dataframe thead th {\n",
       "        text-align: right;\n",
       "    }\n",
       "</style>\n",
       "<table border=\"1\" class=\"dataframe\">\n",
       "  <thead>\n",
       "    <tr style=\"text-align: right;\">\n",
       "      <th></th>\n",
       "      <th>EVA</th>\n",
       "      <th>NET Sales</th>\n",
       "      <th>EBITDA</th>\n",
       "    </tr>\n",
       "  </thead>\n",
       "  <tbody>\n",
       "    <tr>\n",
       "      <th>0</th>\n",
       "      <td>18</td>\n",
       "      <td>60</td>\n",
       "      <td>2.5</td>\n",
       "    </tr>\n",
       "    <tr>\n",
       "      <th>1</th>\n",
       "      <td>15</td>\n",
       "      <td>43</td>\n",
       "      <td>2.1</td>\n",
       "    </tr>\n",
       "    <tr>\n",
       "      <th>2</th>\n",
       "      <td>21</td>\n",
       "      <td>75</td>\n",
       "      <td>4.1</td>\n",
       "    </tr>\n",
       "    <tr>\n",
       "      <th>3</th>\n",
       "      <td>65</td>\n",
       "      <td>140</td>\n",
       "      <td>11.0</td>\n",
       "    </tr>\n",
       "    <tr>\n",
       "      <th>4</th>\n",
       "      <td>80</td>\n",
       "      <td>200</td>\n",
       "      <td>15.0</td>\n",
       "    </tr>\n",
       "  </tbody>\n",
       "</table>\n",
       "</div>"
      ],
      "text/plain": [
       "   EVA  NET Sales  EBITDA\n",
       "0   18         60     2.5\n",
       "1   15         43     2.1\n",
       "2   21         75     4.1\n",
       "3   65        140    11.0\n",
       "4   80        200    15.0"
      ]
     },
     "execution_count": 63,
     "metadata": {},
     "output_type": "execute_result"
    }
   ],
   "source": [
    "df = pd.read_csv('./hw2_data/task2.csv')\n",
    "df.head()"
   ]
  },
  {
   "cell_type": "code",
   "execution_count": 57,
   "metadata": {},
   "outputs": [
    {
     "data": {
      "image/png": "[encoded data removed]",
      "text/plain": [
       "<matplotlib.figure.Figure at 0x10c34d6a0>"
      ]
     },
     "metadata": {},
     "output_type": "display_data"
    }
   ],
   "source": [
    "fig, axes = plt.subplots(1,2)\n",
    "fig.set_size_inches((10,4))\n",
    "\n",
    "axes[0].plot(df['NET Sales'], df['EVA'], 'r.')\n",
    "axes[0].set_title('EVA VS NETSALES')\n",
    "\n",
    "axes[1].plot(df['EBITDA'], df['EVA'], 'r.')\n",
    "axes[1].set_title('EVA VS EBITDA')\n",
    "\n",
    "plt.show()"
   ]
  },
  {
   "cell_type": "code",
   "execution_count": 58,
   "metadata": {},
   "outputs": [
    {
     "name": "stdout",
     "output_type": "stream",
     "text": [
      "Model 1\n",
      "mse=48.05628156196115\n",
      "formula=5.818972685351585 * EBITDA  +  0.0025532886057562914 * NET Sales\n",
      "EVA for netsales=150 and ebitda=8.8  => 51.5899529219574\n",
      "\n",
      "\n",
      "Model 2\n",
      "mse=48.68738161572189\n",
      "formula=5.879410297279757 * EBITDA\n",
      "EVA for ebitda=8.8  => 51.73881061606187\n",
      "\n",
      "\n",
      "Model 3\n",
      "mse=2,060.444529668067\n",
      "formula=0.08711513158429739 * NET Sales\n",
      "EVA for netsales=150 => 13.067269737644608\n"
     ]
    }
   ],
   "source": [
    "x_net_sales = 150\n",
    "x_ebitda = 8.8\n",
    "\n",
    "model1, mse, formula = linearRegressionWithLogs(df, target_col='EVA', param_cols=['EBITDA', 'NET Sales'], fit_intercept=False)\n",
    "pred = model1.predict([[x_ebitda, x_net_sales]])[0]\n",
    "print(\"Model 1\")\n",
    "print(f\"mse={mse}\")\n",
    "print(f\"formula={formula}\")\n",
    "print(f\"EVA for netsales={x_net_sales} and ebitda={x_ebitda}  => {pred}\")\n",
    "\n",
    "###########\n",
    "\n",
    "model2, mse, formula = linearRegressionWithLogs(df, target_col='EVA', param_cols=['EBITDA'], fit_intercept=False)\n",
    "print(\"\\n\\nModel 2\")\n",
    "print(f\"mse={mse}\")\n",
    "print(f\"formula={formula}\")\n",
    "pred = model2.predict([[x_ebitda]])[0]\n",
    "print(f\"EVA for ebitda={x_ebitda}  => {pred}\")\n",
    "\n",
    "###########\n",
    "\n",
    "model3, mse, formula = linearRegressionWithLogs(df, target_col='EVA', param_cols=['NET Sales'], fit_intercept=False)\n",
    "print(\"\\n\\nModel 3\")\n",
    "print(f\"mse={mse}\")\n",
    "print(f\"formula={formula}\")\n",
    "pred = model3.predict([[x_net_sales]])[0]\n",
    "print(f\"EVA for netsales={x_net_sales} => {pred}\")"
   ]
  },
  {
   "cell_type": "markdown",
   "metadata": {},
   "source": [
    "Here we see that Net Sales represents EVA value very badly and we have to consider using only EBITDA for model prediction."
   ]
  },
  {
   "cell_type": "markdown",
   "metadata": {},
   "source": [
    "But there is one outlier for Net Sales. What if we can just remove it?"
   ]
  },
  {
   "cell_type": "code",
   "execution_count": 64,
   "metadata": {},
   "outputs": [
    {
     "data": {
      "text/html": [
       "<div>\n",
       "<style scoped>\n",
       "    .dataframe tbody tr th:only-of-type {\n",
       "        vertical-align: middle;\n",
       "    }\n",
       "\n",
       "    .dataframe tbody tr th {\n",
       "        vertical-align: top;\n",
       "    }\n",
       "\n",
       "    .dataframe thead th {\n",
       "        text-align: right;\n",
       "    }\n",
       "</style>\n",
       "<table border=\"1\" class=\"dataframe\">\n",
       "  <thead>\n",
       "    <tr style=\"text-align: right;\">\n",
       "      <th></th>\n",
       "      <th>EVA</th>\n",
       "      <th>NET Sales</th>\n",
       "      <th>EBITDA</th>\n",
       "    </tr>\n",
       "  </thead>\n",
       "  <tbody>\n",
       "    <tr>\n",
       "      <th>8</th>\n",
       "      <td>60</td>\n",
       "      <td>1750</td>\n",
       "      <td>10.0</td>\n",
       "    </tr>\n",
       "  </tbody>\n",
       "</table>\n",
       "</div>"
      ],
      "text/plain": [
       "   EVA  NET Sales  EBITDA\n",
       "8   60       1750    10.0"
      ]
     },
     "execution_count": 64,
     "metadata": {},
     "output_type": "execute_result"
    }
   ],
   "source": [
    "df[df['NET Sales'] > 1500]"
   ]
  },
  {
   "cell_type": "code",
   "execution_count": 65,
   "metadata": {},
   "outputs": [],
   "source": [
    "df = df.drop(8)"
   ]
  },
  {
   "cell_type": "markdown",
   "metadata": {},
   "source": [
    "And let's try to generate models again."
   ]
  },
  {
   "cell_type": "code",
   "execution_count": 66,
   "metadata": {},
   "outputs": [
    {
     "data": {
      "image/png": "[encoded data removed]",
      "text/plain": [
       "<matplotlib.figure.Figure at 0x1a17347550>"
      ]
     },
     "metadata": {},
     "output_type": "display_data"
    },
    {
     "name": "stdout",
     "output_type": "stream",
     "text": [
      "Model 1\n",
      "mse=19.36645520807756\n",
      "formula=2.9407375869012307 * EBITDA  +  0.1758427004880876 * NET Sales\n",
      "EVA for netsales=150 and ebitda=8.8  => 52.25489583794397\n",
      "\n",
      "\n",
      "Model 2\n",
      "mse=50.652632529128\n",
      "formula=5.873839999630462 * EBITDA\n",
      "EVA for ebitda=8.8  => 51.68979199674807\n",
      "\n",
      "\n",
      "Model 3\n",
      "mse=49.59695407196515\n",
      "formula=0.3453108592475799 * NET Sales\n",
      "EVA for netsales=150 => 51.79662888713699\n"
     ]
    }
   ],
   "source": [
    "fig, axes = plt.subplots(1,2)\n",
    "fig.set_size_inches((10,4))\n",
    "\n",
    "axes[0].plot(df['NET Sales'], df['EVA'], 'r.')\n",
    "axes[0].set_title('EVA VS NETSALES')\n",
    "\n",
    "axes[1].plot(df['EBITDA'], df['EVA'], 'r.')\n",
    "axes[1].set_title('EVA VS EBITDA')\n",
    "\n",
    "plt.show()\n",
    "\n",
    "model1, mse, formula = linearRegressionWithLogs(df, target_col='EVA', param_cols=['EBITDA', 'NET Sales'], fit_intercept=False)\n",
    "pred = model1.predict([[x_ebitda, x_net_sales]])[0]\n",
    "print(\"Model 1\")\n",
    "print(f\"mse={mse}\")\n",
    "print(f\"formula={formula}\")\n",
    "print(f\"EVA for netsales={x_net_sales} and ebitda={x_ebitda}  => {pred}\")\n",
    "\n",
    "###########\n",
    "\n",
    "model2, mse, formula = linearRegressionWithLogs(df, target_col='EVA', param_cols=['EBITDA'], fit_intercept=False)\n",
    "print(\"\\n\\nModel 2\")\n",
    "print(f\"mse={mse}\")\n",
    "print(f\"formula={formula}\")\n",
    "pred = model2.predict([[x_ebitda]])[0]\n",
    "print(f\"EVA for ebitda={x_ebitda}  => {pred}\")\n",
    "\n",
    "###########\n",
    "\n",
    "model3, mse, formula = linearRegressionWithLogs(df, target_col='EVA', param_cols=['NET Sales'], fit_intercept=False)\n",
    "print(\"\\n\\nModel 3\")\n",
    "print(f\"mse={mse}\")\n",
    "print(f\"formula={formula}\")\n",
    "pred = model3.predict([[x_net_sales]])[0]\n",
    "print(f\"EVA for netsales={x_net_sales} => {pred}\")"
   ]
  },
  {
   "cell_type": "markdown",
   "metadata": {},
   "source": [
    "Much better. Now we see that Net Sales is also a good variable in model.\n",
    "\n",
    "But there is one more point. Let's check if Net Sales and EBITDA are depended variables:"
   ]
  },
  {
   "cell_type": "code",
   "execution_count": 69,
   "metadata": {},
   "outputs": [
    {
     "data": {
      "text/plain": [
       "[<matplotlib.lines.Line2D at 0x1a1821bdd8>]"
      ]
     },
     "execution_count": 69,
     "metadata": {},
     "output_type": "execute_result"
    },
    {
     "data": {
      "image/png": "[encoded data removed]",
      "text/plain": [
       "<matplotlib.figure.Figure at 0x1a1734fa58>"
      ]
     },
     "metadata": {},
     "output_type": "display_data"
    }
   ],
   "source": [
    "plt.plot(df['EBITDA'], df['NET Sales'], 'r.')"
   ]
  },
  {
   "cell_type": "markdown",
   "metadata": {},
   "source": [
    "As we see they are completle depended and from domain knowledge we know this as well.\n",
    "\n",
    "We also know that Net sales represents income money, but EBITDA represents how profitable this income is."
   ]
  },
  {
   "cell_type": "markdown",
   "metadata": {},
   "source": [
    "### Conclusion\n",
    "\n",
    "I'd use model where that use only EBITDA variable"
   ]
  },
  {
   "cell_type": "markdown",
   "metadata": {},
   "source": [
    "## Task 3"
   ]
  },
  {
   "cell_type": "markdown",
   "metadata": {},
   "source": [
    "$y_{n+3} = 3y_{n+2} + 2y_{n+1} - 8y_{n}$\n",
    "\n",
    "$y_1=5, y_2=18, y_3=35$"
   ]
  },
  {
   "cell_type": "markdown",
   "metadata": {},
   "source": [
    "### Task 3.1\n",
    "\n",
    "$  y_n =    $"
   ]
  },
  {
   "cell_type": "code",
   "execution_count": null,
   "metadata": {},
   "outputs": [],
   "source": []
  },
  {
   "cell_type": "markdown",
   "metadata": {},
   "source": [
    "## Task 4"
   ]
  },
  {
   "cell_type": "code",
   "execution_count": 70,
   "metadata": {},
   "outputs": [
    {
     "data": {
      "text/html": [
       "<div>\n",
       "<style scoped>\n",
       "    .dataframe tbody tr th:only-of-type {\n",
       "        vertical-align: middle;\n",
       "    }\n",
       "\n",
       "    .dataframe tbody tr th {\n",
       "        vertical-align: top;\n",
       "    }\n",
       "\n",
       "    .dataframe thead th {\n",
       "        text-align: right;\n",
       "    }\n",
       "</style>\n",
       "<table border=\"1\" class=\"dataframe\">\n",
       "  <thead>\n",
       "    <tr style=\"text-align: right;\">\n",
       "      <th></th>\n",
       "      <th>№ п/п</th>\n",
       "      <th>Вибірка 1: Y1</th>\n",
       "      <th>Вибірка 2: Y2</th>\n",
       "    </tr>\n",
       "  </thead>\n",
       "  <tbody>\n",
       "    <tr>\n",
       "      <th>0</th>\n",
       "      <td>1</td>\n",
       "      <td>33</td>\n",
       "      <td>24</td>\n",
       "    </tr>\n",
       "    <tr>\n",
       "      <th>1</th>\n",
       "      <td>2</td>\n",
       "      <td>36</td>\n",
       "      <td>28</td>\n",
       "    </tr>\n",
       "    <tr>\n",
       "      <th>2</th>\n",
       "      <td>3</td>\n",
       "      <td>39</td>\n",
       "      <td>30</td>\n",
       "    </tr>\n",
       "    <tr>\n",
       "      <th>3</th>\n",
       "      <td>4</td>\n",
       "      <td>45</td>\n",
       "      <td>34</td>\n",
       "    </tr>\n",
       "    <tr>\n",
       "      <th>4</th>\n",
       "      <td>5</td>\n",
       "      <td>48</td>\n",
       "      <td>36</td>\n",
       "    </tr>\n",
       "  </tbody>\n",
       "</table>\n",
       "</div>"
      ],
      "text/plain": [
       "   № п/п  Вибірка 1: Y1  Вибірка 2: Y2\n",
       "0      1             33             24\n",
       "1      2             36             28\n",
       "2      3             39             30\n",
       "3      4             45             34\n",
       "4      5             48             36"
      ]
     },
     "execution_count": 70,
     "metadata": {},
     "output_type": "execute_result"
    }
   ],
   "source": [
    "df = pd.read_csv('./hw2_data/task_2.4.csv')\n",
    "df.head()"
   ]
  },
  {
   "cell_type": "code",
   "execution_count": 84,
   "metadata": {},
   "outputs": [],
   "source": [
    "from scipy.optimize import minimize, rosen, rosen_der\n",
    "\n",
    "x = np.array(df['№ п/п'])\n",
    "y_1 = np.array(df['Вибірка 1: Y1'])\n",
    "y_2 = np.array(df['Вибірка 2: Y2'])\n",
    "\n",
    "def mseLoss(params, x, y, model):\n",
    "    sq_error_sum = 0\n",
    "    length = len(x)\n",
    "    for i in range(length):\n",
    "        sq_error_sum += (model(params, x[i]) - y[i]) ** 2\n",
    "    return sq_error_sum / length\n",
    "\n",
    "def model_a(params, x):\n",
    "    [a,b,c] = params\n",
    "    return a*(x**b) + c\n",
    "\n",
    "def model_b(params, x):\n",
    "    [a,b,c, d] = params\n",
    "    return a*x**3 + b*x**2 + c*x + d\n",
    "\n",
    "def model_c(params, x):\n",
    "    [a,b,c] = params\n",
    "    return a*b**x + c"
   ]
  },
  {
   "cell_type": "code",
   "execution_count": 85,
   "metadata": {},
   "outputs": [],
   "source": [
    "minimization_a_1 = minimize(mseLoss, [1,1,1], args=(x,y_1,model_a))\n",
    "minimization_a_2 = minimize(mseLoss, [1,1,1], args=(x,y_2,model_a))\n",
    "\n",
    "minimization_b_1 = minimize(mseLoss, [1,1,1,1], args=(x,y_1,model_b))\n",
    "minimization_b_2 = minimize(mseLoss, [1,1,1,1], args=(x,y_2,model_b))\n",
    "\n",
    "minimization_c_1 = minimize(mseLoss, [1,1,1], args=(x,y_1,model_c))\n",
    "minimization_c_2 = minimize(mseLoss, [1,1,1], args=(x,y_2,model_c))"
   ]
  },
  {
   "cell_type": "code",
   "execution_count": 98,
   "metadata": {},
   "outputs": [
    {
     "data": {
      "text/plain": [
       "<function matplotlib.pyplot.show(*args, **kw)>"
      ]
     },
     "execution_count": 98,
     "metadata": {},
     "output_type": "execute_result"
    },
    {
     "data": {
      "image/png": "[encoded data removed]",
      "text/plain": [
       "<matplotlib.figure.Figure at 0x1a17bb6208>"
      ]
     },
     "metadata": {},
     "output_type": "display_data"
    }
   ],
   "source": [
    "fig, (ax_1, ax_2) = plt.subplots(1,2)\n",
    "fig.set_size_inches((30,12))\n",
    "\n",
    "ax_1.bar(['Model A', 'Model B', 'Model C'], [minimization_a_1['fun'], minimization_b_1['fun'], minimization_c_1['fun'] ])\n",
    "ax_1.set_title('MSE for Y1 using {a,b,c} models')\n",
    "\n",
    "\n",
    "ax_2.bar(['Model A', 'Model B', 'Model C'], [minimization_a_2['fun'], minimization_b_2['fun'], minimization_c_2['fun'] ])\n",
    "ax_2.set_title('MSE for Y2 using {a,b,c} models')\n",
    "\n",
    "plt.show"
   ]
  },
  {
   "cell_type": "markdown",
   "metadata": {},
   "source": [
    "From above charts we could see that Model C represetnts the best Y1 and Y2 samples."
   ]
  },
  {
   "cell_type": "markdown",
   "metadata": {},
   "source": [
    "## Task 5"
   ]
  },
  {
   "cell_type": "code",
   "execution_count": 100,
   "metadata": {},
   "outputs": [
    {
     "data": {
      "text/html": [
       "<div>\n",
       "<style scoped>\n",
       "    .dataframe tbody tr th:only-of-type {\n",
       "        vertical-align: middle;\n",
       "    }\n",
       "\n",
       "    .dataframe tbody tr th {\n",
       "        vertical-align: top;\n",
       "    }\n",
       "\n",
       "    .dataframe thead th {\n",
       "        text-align: right;\n",
       "    }\n",
       "</style>\n",
       "<table border=\"1\" class=\"dataframe\">\n",
       "  <thead>\n",
       "    <tr style=\"text-align: right;\">\n",
       "      <th></th>\n",
       "      <th>Год</th>\n",
       "      <th>Месяц</th>\n",
       "      <th>t</th>\n",
       "      <th>Алка-зельтцер</th>\n",
       "    </tr>\n",
       "  </thead>\n",
       "  <tbody>\n",
       "    <tr>\n",
       "      <th>0</th>\n",
       "      <td>2003</td>\n",
       "      <td>1</td>\n",
       "      <td>1</td>\n",
       "      <td>27756.793752</td>\n",
       "    </tr>\n",
       "    <tr>\n",
       "      <th>1</th>\n",
       "      <td>2003</td>\n",
       "      <td>2</td>\n",
       "      <td>2</td>\n",
       "      <td>17198.926264</td>\n",
       "    </tr>\n",
       "    <tr>\n",
       "      <th>2</th>\n",
       "      <td>2003</td>\n",
       "      <td>3</td>\n",
       "      <td>3</td>\n",
       "      <td>20786.674302</td>\n",
       "    </tr>\n",
       "    <tr>\n",
       "      <th>3</th>\n",
       "      <td>2003</td>\n",
       "      <td>4</td>\n",
       "      <td>4</td>\n",
       "      <td>25562.645106</td>\n",
       "    </tr>\n",
       "    <tr>\n",
       "      <th>4</th>\n",
       "      <td>2003</td>\n",
       "      <td>5</td>\n",
       "      <td>5</td>\n",
       "      <td>23282.538261</td>\n",
       "    </tr>\n",
       "  </tbody>\n",
       "</table>\n",
       "</div>"
      ],
      "text/plain": [
       "    Год  Месяц  t  Алка-зельтцер\n",
       "0  2003      1  1   27756.793752\n",
       "1  2003      2  2   17198.926264\n",
       "2  2003      3  3   20786.674302\n",
       "3  2003      4  4   25562.645106\n",
       "4  2003      5  5   23282.538261"
      ]
     },
     "execution_count": 100,
     "metadata": {},
     "output_type": "execute_result"
    }
   ],
   "source": [
    "df = pd.read_excel('./hw2_data/sales_alkazeltser.xlsx')\n",
    "df.head()"
   ]
  },
  {
   "cell_type": "code",
   "execution_count": 110,
   "metadata": {},
   "outputs": [
    {
     "name": "stdout",
     "output_type": "stream",
     "text": [
      "Model 1\n",
      "mse=117,418,786.05024593\n",
      "formula=-4.099206016593807e+17 * Месяц_1  +  -4.099206016593912e+17 * Месяц_2  +  -4.0992060165938714e+17 * Месяц_3  +  -4.09920601659382e+17 * Месяц_4  +  -4.099206016593835e+17 * Месяц_5  +  -4.099206016593831e+17 * Месяц_6  +  -4.099206016593828e+17 * Месяц_7  +  -4.0992060165938355e+17 * Месяц_8  +  -4.099206016593877e+17 * Месяц_9  +  -4.099206016593876e+17 * Месяц_10  +  -4.099206016593881e+17 * Месяц_11  +  -4.099206016593694e+17 * Месяц_12 + 4.0992060165941357e+17\n"
     ]
    }
   ],
   "source": [
    "model, mse, formula = linearRegressionWithLogs(df, categ_cols=['Месяц'], target_col='Алка-зельтцер', param_cols=[])\n",
    "print(\"Model 1\")\n",
    "print(f\"mse={mse}\")\n",
    "print(f\"formula={formula}\")"
   ]
  },
  {
   "cell_type": "code",
   "execution_count": 119,
   "metadata": {},
   "outputs": [],
   "source": [
    "X = np.zeros((len(df), 12))\n",
    "for i,r in df.iterrows():\n",
    "    X[i, int(r['Месяц']) - 1] = 1"
   ]
  },
  {
   "cell_type": "code",
   "execution_count": 129,
   "metadata": {},
   "outputs": [
    {
     "data": {
      "text/plain": [
       "[<matplotlib.lines.Line2D at 0x1a172d3d68>]"
      ]
     },
     "execution_count": 129,
     "metadata": {},
     "output_type": "execute_result"
    },
    {
     "data": {
      "image/png": "[encoded data removed]",
      "text/plain": [
       "<matplotlib.figure.Figure at 0x1a172d3c88>"
      ]
     },
     "metadata": {},
     "output_type": "display_data"
    }
   ],
   "source": [
    "plt.plot(df['t'], model.predict(X))\n",
    "plt.plot(df['t'], df['Алка-зельтцер'])"
   ]
  },
  {
   "cell_type": "markdown",
   "metadata": {},
   "source": [
    "Above we could see that model found out months trend. Blue lines represents model prediction and orange real values.\n",
    "\n",
    "But finding trend in years would be impossible with this data. As we can see there is low trend in left, high in the middle and low again in the right trends. There are no dependency visible so trend prediction in future year is not possible."
   ]
  },
  {
   "cell_type": "markdown",
   "metadata": {},
   "source": [
    "## Task 6"
   ]
  },
  {
   "cell_type": "markdown",
   "metadata": {},
   "source": [
    "$Q_D=3000-2000×P$ AND $TC=120+0.2\\timesQ$\n",
    "\n",
    "So \n",
    "\n",
    "$P = 1.5 - \\dfrac{1}{2000}Q_D $\n",
    "\n",
    "$P = 1.3 \\times P_{factory}$\n",
    "\n",
    "$P_{factory} = \\dfrac{P}{1.3} = \\dfrac{1.5 - \\dfrac{1}{2000}Q_D}{1.3}$\n",
    "\n",
    "Let's consider that produced and demand quantities are equal, then:\n",
    "\n",
    "$TR = P_{factory} \\times Q = \\dfrac{P}{1.3} = \\dfrac{1.5 - \\dfrac{1}{2000}Q}{1.3} \\times Q$\n",
    "\n",
    "$Profit = TR - TC = \\dfrac{1.5 - \\dfrac{1}{2000}Q}{1.3} \\times Q - (120 + 0.2\\times Q)$"
   ]
  },
  {
   "cell_type": "code",
   "execution_count": 137,
   "metadata": {},
   "outputs": [
    {
     "data": {
      "text/plain": [
       "Text(0,0.5,'Profit')"
      ]
     },
     "execution_count": 137,
     "metadata": {},
     "output_type": "execute_result"
    },
    {
     "data": {
      "image/png": "[encoded data removed]",
      "text/plain": [
       "<matplotlib.figure.Figure at 0x1a17b46c18>"
      ]
     },
     "metadata": {},
     "output_type": "display_data"
    }
   ],
   "source": [
    "def profit(q):\n",
    "    return ( (1.5 - 1/2000 * q) / 1.3 ) * q - (120 + 0.2 * q)\n",
    "\n",
    "qs = [q for q in range(1,5000)]\n",
    "profits = [profit(q) for q in qs]\n",
    "\n",
    "plt.plot(qs, profits)\n",
    "plt.xlabel('QD')\n",
    "plt.ylabel('Profit')"
   ]
  },
  {
   "cell_type": "code",
   "execution_count": 135,
   "metadata": {},
   "outputs": [
    {
     "name": "stdout",
     "output_type": "stream",
     "text": [
      "Quantity value with max profit = 1240\n"
     ]
    }
   ],
   "source": [
    "max_q = qs[np.argmax(profits)]\n",
    "print(f\"Quantity value with max profit = {max_q}\")"
   ]
  },
  {
   "cell_type": "markdown",
   "metadata": {},
   "source": [
    "## Task 7"
   ]
  },
  {
   "cell_type": "markdown",
   "metadata": {},
   "source": [
    "$q_a = 120 - 3.5 \\times p_a$ AND $q_b = 80 - 2.7 \\times p_b$\n",
    "\n",
    "$p_a = \\dfrac{120 - q_a}{3.5}$ AND $p_b = \\dfrac{80 - q_b}{2.7}$\n",
    "\n",
    "$TR = q_a \\times p_a + q_b \\times p_b $ AND $TC = 15 \\times (q_a + q_b)$\n",
    "\n",
    "$Profit = TR - TC = q_a \\times p_a + q_b \\times p_b - 15 \\times (q_a + q_b) = q_a \\times \\dfrac{120 - q_a}{3.5} + q_b \\times \\dfrac{80 - q_b}{2.7} - 15 \\times (q_a + q_b)$"
   ]
  },
  {
   "cell_type": "code",
   "execution_count": 150,
   "metadata": {},
   "outputs": [
    {
     "data": {
      "text/plain": [
       "<mpl_toolkits.mplot3d.art3d.Poly3DCollection at 0x1a282dcef0>"
      ]
     },
     "execution_count": 150,
     "metadata": {},
     "output_type": "execute_result"
    },
    {
     "data": {
      "image/png": "[encoded data removed]",
      "text/plain": [
       "<matplotlib.figure.Figure at 0x1a177e57f0>"
      ]
     },
     "metadata": {},
     "output_type": "display_data"
    }
   ],
   "source": [
    "from mpl_toolkits.mplot3d import Axes3D\n",
    "\n",
    "def profit(q_a, q_b):\n",
    "    return q_a * ((120 - q_a) / 3.5) + q_b * (( 80 - q_b) / 2.7) - 15 * (q_a + q_b)\n",
    "\n",
    "q_to = 100\n",
    "qs = [q for q in range(1,q_to+1)]\n",
    "\n",
    "profits = [profit(qs[i], qs[j]) for j in range(len(qs)) for i in range(len(qs))]\n",
    "Z = np.array(profits).reshape((q_to,q_to))\n",
    "\n",
    "X,Y = np.meshgrid(qs,qs)\n",
    "\n",
    "ax = plt.axes(projection='3d')\n",
    "ax.plot_surface(X,Y,Z)"
   ]
  },
  {
   "cell_type": "code",
   "execution_count": 156,
   "metadata": {},
   "outputs": [
    {
     "name": "stdout",
     "output_type": "stream",
     "text": [
      "A = 20, B = 34\n"
     ]
    }
   ],
   "source": [
    "[a_i, b_i] = np.unravel_index(Z.argmax(), Z.shape)\n",
    "print(f\"A = {qs[a_i]}, B = {qs[b_i]}\")"
   ]
  }
 ],
 "metadata": {
  "kernelspec": {
   "display_name": "Python 3",
   "language": "python",
   "name": "python3"
  },
  "language_info": {
   "codemirror_mode": {
    "name": "ipython",
    "version": 3
   },
   "file_extension": ".py",
   "mimetype": "text/x-python",
   "name": "python",
   "nbconvert_exporter": "python",
   "pygments_lexer": "ipython3",
   "version": "3.6.5"
  }
 },
 "nbformat": 4,
 "nbformat_minor": 2
}
