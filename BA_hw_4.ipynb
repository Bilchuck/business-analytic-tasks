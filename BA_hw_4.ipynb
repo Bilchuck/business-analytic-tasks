{
 "cells": [
  {
   "cell_type": "markdown",
   "metadata": {},
   "source": [
    "# Homework 4"
   ]
  },
  {
   "cell_type": "code",
   "execution_count": 5,
   "metadata": {},
   "outputs": [],
   "source": [
    "import numpy as np\n",
    "import pandas as pd\n",
    "import matplotlib.pyplot as plt\n",
    "import math"
   ]
  },
  {
   "cell_type": "code",
   "execution_count": 54,
   "metadata": {},
   "outputs": [],
   "source": [
    "deposit_percent = 0.05\n",
    "\n",
    "salary_increase = 0.08\n",
    "\n",
    "inflation = 0.03\n",
    "age_start = 40 # my age\n",
    "pension_start = 60\n",
    "finish_year = 100\n",
    "salary_m = 2000\n",
    "infl_r = 1 + inflation\n",
    "salary_r = 1 + salary_increase\n",
    "deposit_r = deposit_percent + 1\n",
    "monthes = 12\n",
    "years_salary = pension_start - age_start\n",
    "\n",
    "\n",
    "def canSpendPerYear(balance):\n",
    "    percent = deposit_percent + 1\n",
    "    periods = finish_year - pension_start\n",
    "    return ( balance*percent**(periods-1) )  / ( sum([percent**i * infl_r**(periods-i - 1) for i in range(periods) ]) ) / 12\n",
    "\n",
    "def pensionFromDeposit(monthUsage):\n",
    "    \n",
    "    deposited = sum([\n",
    "        (\n",
    "            salary_m * salary_r ** (years_salary - i)\n",
    "            -\n",
    "            monthUsage * infl_r ** (years_salary - i)\n",
    "        ) * monthes * (deposit_r ** i)\n",
    "        for i in range(1,years_salary)\n",
    "    ])\n",
    "    \n",
    "    return deposited, canSpendPerYear(deposited) / infl_r ** years_salary"
   ]
  },
  {
   "cell_type": "code",
   "execution_count": 56,
   "metadata": {},
   "outputs": [
    {
     "data": {
      "text/plain": [
       "[<matplotlib.lines.Line2D at 0x12a0c40f0>]"
      ]
     },
     "execution_count": 56,
     "metadata": {},
     "output_type": "execute_result"
    },
    {
     "data": {
      "image/png": "[encoded data removed]",
      "text/plain": [
       "<matplotlib.figure.Figure at 0x129f0fc88>"
      ]
     },
     "metadata": {},
     "output_type": "display_data"
    }
   ],
   "source": [
    "spends = np.arange(100,2000)\n",
    "results = np.array([pensionFromDeposit(x)[1] for x in spends])\n",
    "\n",
    "plt.xlabel('Spend per month')\n",
    "plt.ylabel('Funture pension per month')\n",
    "plt.plot(spends, results)"
   ]
  },
  {
   "cell_type": "code",
   "execution_count": 58,
   "metadata": {},
   "outputs": [
    {
     "data": {
      "text/plain": [
       "1459"
      ]
     },
     "execution_count": 58,
     "metadata": {},
     "output_type": "execute_result"
    }
   ],
   "source": [
    "diffs = np.abs(spends - results)\n",
    "res = spends[np.argmin(diffs)]\n",
    "res"
   ]
  },
  {
   "cell_type": "markdown",
   "metadata": {},
   "source": [
    "I have to spend $1459 per month to have most stable month spendings."
   ]
  },
  {
   "cell_type": "markdown",
   "metadata": {},
   "source": [
    "## Task 2"
   ]
  },
  {
   "cell_type": "code",
   "execution_count": 32,
   "metadata": {},
   "outputs": [
    {
     "name": "stdout",
     "output_type": "stream",
     "text": [
      "Expected price     = 25500.0\n",
      "Standard deviation = 13124.404748406687\n"
     ]
    }
   ],
   "source": [
    "ps = np.array([ 0.2, 0.2, 0.3, 0.2, 0.1 ])\n",
    "xs = np.array([ 10000, 15000, 25000, 40000, 50000 ])\n",
    "\n",
    "E_x =  np.sum( ps * xs )\n",
    "Sigma_x = np.sqrt( np.sum( ps * (xs - E_x)**2 ) )\n",
    "\n",
    "print(f\"Expected price     = {E_x}\")\n",
    "print(f\"Standard deviation = {Sigma_x}\")"
   ]
  },
  {
   "cell_type": "markdown",
   "metadata": {},
   "source": [
    "## Task 3"
   ]
  },
  {
   "cell_type": "code",
   "execution_count": 33,
   "metadata": {},
   "outputs": [
    {
     "name": "stdout",
     "output_type": "stream",
     "text": [
      "Неперервний            => 78044.79999999997\n",
      "Компаудування що місяця  => 24000.0\n"
     ]
    }
   ],
   "source": [
    "years = 3\n",
    "investment = 50000\n",
    "percent = 0.16\n",
    "\n",
    "way_1 = investment * (1+percent)**years\n",
    "way_2 = investment*percent*years\n",
    "\n",
    "print(f\"Неперервний            => {way_1}\")\n",
    "print(f\"Компаудування що місяця  => {way_2}\")"
   ]
  },
  {
   "cell_type": "markdown",
   "metadata": {},
   "source": [
    "## Task 4"
   ]
  },
  {
   "cell_type": "code",
   "execution_count": 34,
   "metadata": {},
   "outputs": [
    {
     "name": "stdout",
     "output_type": "stream",
     "text": [
      "За 25 років 1000 гривень будуть коштувати сьогоднішні 10.48259601039611 грн\n"
     ]
    }
   ],
   "source": [
    "years = 25\n",
    "discont = 0.2\n",
    "present = 1000\n",
    "\n",
    "res = present / ( (1+discont) ** years )\n",
    "\n",
    "print(f\"За 25 років 1000 гривень будуть коштувати сьогоднішні {res} грн\")"
   ]
  },
  {
   "cell_type": "markdown",
   "metadata": {},
   "source": [
    "## Task 5"
   ]
  },
  {
   "cell_type": "code",
   "execution_count": 35,
   "metadata": {},
   "outputs": [
    {
     "name": "stdout",
     "output_type": "stream",
     "text": [
      "Справжня річна ставка = 0.43%, якщо складний відсоток\n",
      "Справжня річна ставка = 0.36%, якщо простий відсоток\n"
     ]
    }
   ],
   "source": [
    "res = np.round((1.03 ** 12 - 1), 2)\n",
    "print(f\"Справжня річна ставка = {res}%, якщо складний відсоток\")\n",
    "print(f\"Справжня річна ставка = {0.03 * 12}%, якщо простий відсоток\")"
   ]
  },
  {
   "cell_type": "markdown",
   "metadata": {},
   "source": [
    "## Task 6"
   ]
  },
  {
   "cell_type": "markdown",
   "metadata": {},
   "source": [
    "$1500 = 500 \\times 1.09 ^ x$\n",
    "\n",
    "$1.09^x 0 3$\n",
    "\n",
    "$x = log_{1.09}(3)$"
   ]
  },
  {
   "cell_type": "code",
   "execution_count": 36,
   "metadata": {},
   "outputs": [
    {
     "data": {
      "text/plain": [
       "Text(0,0.5,'Вклад')"
      ]
     },
     "execution_count": 36,
     "metadata": {},
     "output_type": "execute_result"
    },
    {
     "data": {
      "image/png": "[encoded data removed]",
      "text/plain": [
       "<matplotlib.figure.Figure at 0x129d5d668>"
      ]
     },
     "metadata": {},
     "output_type": "display_data"
    }
   ],
   "source": [
    "xs = np.arange(0,20, 1)\n",
    "res = 500*1.09**xs\n",
    "\n",
    "plt.plot(xs, res)\n",
    "plt.xlabel(\"Період\")\n",
    "plt.ylabel(\"Вклад\")"
   ]
  },
  {
   "cell_type": "code",
   "execution_count": 37,
   "metadata": {},
   "outputs": [
    {
     "data": {
      "text/plain": [
       "12.748220671797961"
      ]
     },
     "execution_count": 37,
     "metadata": {},
     "output_type": "execute_result"
    }
   ],
   "source": [
    "x = math.log(3, 1.09)\n",
    "x"
   ]
  },
  {
   "cell_type": "code",
   "execution_count": 38,
   "metadata": {},
   "outputs": [
    {
     "name": "stdout",
     "output_type": "stream",
     "text": [
      "Періодів оплат потрібно - 13\n"
     ]
    }
   ],
   "source": [
    "res = math.ceil(x)\n",
    "print(f\"Періодів оплат потрібно - {res}\")"
   ]
  },
  {
   "cell_type": "markdown",
   "metadata": {},
   "source": [
    "## Task 7"
   ]
  },
  {
   "cell_type": "code",
   "execution_count": 45,
   "metadata": {},
   "outputs": [
    {
     "name": "stdout",
     "output_type": "stream",
     "text": [
      "Current value of cash flow 151584.1899067154\n"
     ]
    },
    {
     "data": {
      "text/plain": [
       "      converged: True\n",
       "           flag: 'converged'\n",
       " function_calls: 4\n",
       "     iterations: 3\n",
       "           root: 0.5975054386336517"
      ]
     },
     "execution_count": 45,
     "metadata": {},
     "output_type": "execute_result"
    }
   ],
   "source": [
    "import scipy.optimize as scopt\n",
    "\n",
    "rate = 0.1/4\n",
    "fvs = [ 50000, 40000, 80000 ] \n",
    "periods = [1, 3, 8]*4\n",
    "pvs = [ fv/(1+rate)**period for fv, period in zip(fvs, periods) ]\n",
    "pv = np.sum(pvs)\n",
    "\n",
    "\n",
    "def toOptimise(ratio):\n",
    "    return pv*ratio*(1+rate)**12 - pv*(1-ratio)*(1+rate)**28\n",
    "\n",
    "result = scopt.root_scalar(toOptimise, bracket=[0, 1])\n",
    "\n",
    "print(f\"Current value of cash flow {pv}\")\n",
    "\n",
    "result"
   ]
  },
  {
   "cell_type": "code",
   "execution_count": 48,
   "metadata": {},
   "outputs": [
    {
     "data": {
      "text/plain": [
       "121809.77879641112"
      ]
     },
     "execution_count": 48,
     "metadata": {},
     "output_type": "execute_result"
    }
   ],
   "source": [
    "ratio = results.root\n",
    "new_fvs = [ pv*ratio*(1+rate)**12, pv*(1-ratio)*(1+rate)**28 ]\n",
    "new_fvs[0]"
   ]
  },
  {
   "cell_type": "markdown",
   "metadata": {},
   "source": [
    "First payment would cost 59% of current value of cash flow.\n",
    "\n",
    "Future value of two years payment = 121809.77"
   ]
  },
  {
   "cell_type": "markdown",
   "metadata": {},
   "source": [
    "## Task 8"
   ]
  },
  {
   "cell_type": "code",
   "execution_count": 51,
   "metadata": {},
   "outputs": [
    {
     "name": "stdout",
     "output_type": "stream",
     "text": [
      "1 = 1074967.850003538, 2 = 1087197.3800005412\n"
     ]
    }
   ],
   "source": [
    "deposit_rate = 0.12\n",
    "month_payment = -2000\n",
    "\n",
    "bro_1 = np.fv(deposit_rate, 6, month_payment, 0)\n",
    "bro_1 = np.fv(deposit_rate, 37, 0, -bro_1)\n",
    "\n",
    "bro_2 = np.fv(deposit_rate, 37, month_payment, 0)\n",
    "\n",
    "print(f\"1 = {bro_1}, 2 = {bro_2}\")"
   ]
  },
  {
   "cell_type": "markdown",
   "metadata": {},
   "source": [
    "Преший брат отримує менше накопичень на 10 тис. . Але ця різниця є порівняно невелика, враховуючи що він відкладав лише 6 років.\n",
    "\n",
    "Тому перша інвестиція є більш вигіднішою.\n",
    "\n",
    "Від себе: це дуже цікавий приклад!"
   ]
  },
  {
   "cell_type": "code",
   "execution_count": null,
   "metadata": {},
   "outputs": [],
   "source": []
  }
 ],
 "metadata": {
  "kernelspec": {
   "display_name": "Python 3",
   "language": "python",
   "name": "python3"
  },
  "language_info": {
   "codemirror_mode": {
    "name": "ipython",
    "version": 3
   },
   "file_extension": ".py",
   "mimetype": "text/x-python",
   "name": "python",
   "nbconvert_exporter": "python",
   "pygments_lexer": "ipython3",
   "version": "3.6.5"
  }
 },
 "nbformat": 4,
 "nbformat_minor": 2
}
