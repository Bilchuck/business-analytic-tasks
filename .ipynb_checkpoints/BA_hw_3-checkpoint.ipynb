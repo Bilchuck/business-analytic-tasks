{
 "cells": [
  {
   "cell_type": "markdown",
   "metadata": {},
   "source": [
    "# Homework 3"
   ]
  },
  {
   "cell_type": "code",
   "execution_count": 1,
   "metadata": {},
   "outputs": [],
   "source": [
    "import numpy as np\n",
    "import pandas as pd\n",
    "import matplotlib.pyplot as plt\n",
    "import math"
   ]
  },
  {
   "cell_type": "markdown",
   "metadata": {},
   "source": [
    "## Task 1"
   ]
  },
  {
   "cell_type": "code",
   "execution_count": 2,
   "metadata": {},
   "outputs": [],
   "source": [
    "def d(p, a, b):\n",
    "    return np.exp(-1*a*p - b)\n",
    "def TC(q):\n",
    "    return 2 + 9*q + 0.1*np.power(q, 2)\n",
    "def profit(p, a, b):\n",
    "    quantity = d(p, a, b)\n",
    "    return quantity*p - TC(quantity)"
   ]
  },
  {
   "cell_type": "markdown",
   "metadata": {},
   "source": [
    "### 1.1"
   ]
  },
  {
   "cell_type": "code",
   "execution_count": 3,
   "metadata": {},
   "outputs": [
    {
     "data": {
      "text/plain": [
       "[<matplotlib.lines.Line2D at 0x1187bb5c0>]"
      ]
     },
     "execution_count": 3,
     "metadata": {},
     "output_type": "execute_result"
    },
    {
     "data": {
      "image/png": "[encoded data removed]",
      "text/plain": [
       "<matplotlib.figure.Figure at 0x1159e9080>"
      ]
     },
     "metadata": {},
     "output_type": "display_data"
    }
   ],
   "source": [
    "ps = np.arange(0,200, 0.1)\n",
    "profits = profit(ps, 0.1, -3)\n",
    "\n",
    "plt.plot(ps, profits)"
   ]
  },
  {
   "cell_type": "markdown",
   "metadata": {},
   "source": [
    "### 1.2"
   ]
  },
  {
   "cell_type": "code",
   "execution_count": 4,
   "metadata": {},
   "outputs": [
    {
     "name": "stdout",
     "output_type": "stream",
     "text": [
      "Optimal price = 19.6\n",
      "Profit = 27.189253460696897\n"
     ]
    }
   ],
   "source": [
    "max_p = ps[np.argmax(profits)]\n",
    "print(f\"Optimal price = {max_p}\")\n",
    "print(f\"Profit = {profit(max_p, 0.1, -3)}\")"
   ]
  },
  {
   "cell_type": "markdown",
   "metadata": {},
   "source": [
    "### 1.3"
   ]
  },
  {
   "cell_type": "code",
   "execution_count": 5,
   "metadata": {},
   "outputs": [
    {
     "data": {
      "image/png": "[encoded data removed]",
      "text/plain": [
       "<matplotlib.figure.Figure at 0x111b7d4a8>"
      ]
     },
     "metadata": {},
     "output_type": "display_data"
    },
    {
     "name": "stdout",
     "output_type": "stream",
     "text": [
      "Optimal price = 19.8\n",
      "Profit = 40.96932420100043 - 10 = 30.969324201000433\n"
     ]
    }
   ],
   "source": [
    "ps = np.arange(0,200, 0.1)\n",
    "profits = profit(ps, 0.1, -3.4)\n",
    "\n",
    "plt.plot(ps, profits)\n",
    "plt.show()\n",
    "\n",
    "max_p = ps[np.argmax(profits)]\n",
    "print(f\"Optimal price = {max_p}\")\n",
    "print(f\"Profit = {profit(max_p, 0.1, -3.4)} - 10 = {profit(max_p, 0.1, -3.4) - 10}\")"
   ]
  },
  {
   "cell_type": "markdown",
   "metadata": {},
   "source": [
    "Advertising campaign increase profit so it is expedient."
   ]
  },
  {
   "cell_type": "markdown",
   "metadata": {},
   "source": [
    "## Task 2"
   ]
  },
  {
   "cell_type": "markdown",
   "metadata": {},
   "source": [
    "### 2.1"
   ]
  },
  {
   "cell_type": "code",
   "execution_count": 40,
   "metadata": {},
   "outputs": [
    {
     "name": "stdout",
     "output_type": "stream",
     "text": [
      "A = 0.09373065550147375, B = -3.0195444856202194\n"
     ]
    }
   ],
   "source": [
    "from scipy.optimize import curve_fit\n",
    "\n",
    "prices = np.array([25, 20, 15,  13, 10])\n",
    "sales  = np.array([2,  3,  5.2, 6,  8])\n",
    "\n",
    "def demand(x, a, b):\n",
    "    return np.exp(-1*a*x - b)\n",
    "\n",
    "a,b = curve_fit(demand, prices, sales)[0]\n",
    "\n",
    "print(f\"A = {a}, B = {b}\")"
   ]
  },
  {
   "cell_type": "markdown",
   "metadata": {},
   "source": [
    "### 2.2"
   ]
  },
  {
   "cell_type": "code",
   "execution_count": 27,
   "metadata": {},
   "outputs": [
    {
     "name": "stdout",
     "output_type": "stream",
     "text": [
      "A = 0.08552633911849611, B = -3.0848268264700325\n"
     ]
    }
   ],
   "source": [
    "prices_2 = np.array([25, 22, 18, 15, 11])\n",
    "sales_2  = np.array([2,  3,  5,  7,  8])\n",
    "\n",
    "a_2,b_2 = curve_fit(demand, prices_2, sales_2)[0]\n",
    "\n",
    "print(f\"A = {a_2}, B = {b_2}\")"
   ]
  },
  {
   "cell_type": "markdown",
   "metadata": {},
   "source": [
    "### 2.5"
   ]
  },
  {
   "cell_type": "code",
   "execution_count": 47,
   "metadata": {},
   "outputs": [
    {
     "name": "stdout",
     "output_type": "stream",
     "text": [
      "     fun: -4.718407611529269\n",
      "    nfev: 22\n",
      "     nit: 12\n",
      " success: True\n",
      "       x: 35.66886809247487\n"
     ]
    }
   ],
   "source": [
    "from scipy.optimize import minimize_scalar\n",
    "\n",
    "def TC(q):\n",
    "    return 3 + 25 * q\n",
    "def profit(p, a, b):\n",
    "    q = demand(p, a, b)\n",
    "    return q * p - TC(q)\n",
    "\n",
    "def loss(x, a, b):\n",
    "    return -1 * profit(x, a, b)\n",
    "\n",
    "minimization_1 = minimize_scalar(lambda x, a, b : -profit(x, a, b), args=(a,b))\n",
    "print(minimization_1)"
   ]
  },
  {
   "cell_type": "code",
   "execution_count": 48,
   "metadata": {},
   "outputs": [
    {
     "name": "stdout",
     "output_type": "stream",
     "text": [
      "     fun: -4.718407611529269\n",
      "    nfev: 22\n",
      "     nit: 12\n",
      " success: True\n",
      "       x: 35.66886809247487\n"
     ]
    }
   ],
   "source": [
    "minimization_2 = minimize_scalar(lambda x, a, b : -profit(x, a, b), args=(a_2,b_2))\n",
    "print(minimization_1)"
   ]
  },
  {
   "cell_type": "code",
   "execution_count": null,
   "metadata": {},
   "outputs": [],
   "source": []
  }
 ],
 "metadata": {
  "kernelspec": {
   "display_name": "Python 3",
   "language": "python",
   "name": "python3"
  },
  "language_info": {
   "codemirror_mode": {
    "name": "ipython",
    "version": 3
   },
   "file_extension": ".py",
   "mimetype": "text/x-python",
   "name": "python",
   "nbconvert_exporter": "python",
   "pygments_lexer": "ipython3",
   "version": "3.6.5"
  }
 },
 "nbformat": 4,
 "nbformat_minor": 2
}
