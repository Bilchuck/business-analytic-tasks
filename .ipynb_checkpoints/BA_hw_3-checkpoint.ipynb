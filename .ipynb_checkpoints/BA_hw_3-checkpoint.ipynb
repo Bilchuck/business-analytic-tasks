{
 "cells": [
  {
   "cell_type": "markdown",
   "metadata": {},
   "source": [
    "# Homework 3"
   ]
  },
  {
   "cell_type": "code",
   "execution_count": 2,
   "metadata": {},
   "outputs": [],
   "source": [
    "import numpy as np\n",
    "import pandas as pd\n",
    "import matplotlib.pyplot as plt\n",
    "import math"
   ]
  },
  {
   "cell_type": "markdown",
   "metadata": {},
   "source": [
    "## Task 1"
   ]
  },
  {
   "cell_type": "code",
   "execution_count": 3,
   "metadata": {},
   "outputs": [],
   "source": [
    "def d(p, a, b):\n",
    "    return np.exp(-1*a*p - b)\n",
    "def TC(q):\n",
    "    return 2 + 9*q + 0.1*np.power(q, 2)\n",
    "def profit(p, a, b):\n",
    "    quantity = d(p, a, b)\n",
    "    return quantity*p - TC(quantity)"
   ]
  },
  {
   "cell_type": "markdown",
   "metadata": {},
   "source": [
    "### 1.1"
   ]
  },
  {
   "cell_type": "code",
   "execution_count": 4,
   "metadata": {},
   "outputs": [
    {
     "data": {
      "text/plain": [
       "[<matplotlib.lines.Line2D at 0x11409be48>]"
      ]
     },
     "execution_count": 4,
     "metadata": {},
     "output_type": "execute_result"
    },
    {
     "data": {
      "image/png": "[encoded data removed]",
      "text/plain": [
       "<matplotlib.figure.Figure at 0x108a5f9b0>"
      ]
     },
     "metadata": {},
     "output_type": "display_data"
    }
   ],
   "source": [
    "ps = np.arange(0,200, 0.1)\n",
    "profits = profit(ps, 0.1, -3)\n",
    "\n",
    "plt.plot(ps, profits)"
   ]
  },
  {
   "cell_type": "markdown",
   "metadata": {},
   "source": [
    "### 1.2"
   ]
  },
  {
   "cell_type": "code",
   "execution_count": 5,
   "metadata": {},
   "outputs": [
    {
     "name": "stdout",
     "output_type": "stream",
     "text": [
      "Optimal price = 19.6\n",
      "Profit = 27.189253460696897\n"
     ]
    }
   ],
   "source": [
    "max_p = ps[np.argmax(profits)]\n",
    "print(f\"Optimal price = {max_p}\")\n",
    "print(f\"Profit = {profit(max_p, 0.1, -3)}\")"
   ]
  },
  {
   "cell_type": "markdown",
   "metadata": {},
   "source": [
    "### 1.3"
   ]
  },
  {
   "cell_type": "code",
   "execution_count": 6,
   "metadata": {},
   "outputs": [
    {
     "data": {
      "image/png": "[encoded data removed]",
      "text/plain": [
       "<matplotlib.figure.Figure at 0x108a5f630>"
      ]
     },
     "metadata": {},
     "output_type": "display_data"
    },
    {
     "name": "stdout",
     "output_type": "stream",
     "text": [
      "Optimal price = 19.8\n",
      "Profit = 40.96932420100043 - 10 = 30.969324201000433\n"
     ]
    }
   ],
   "source": [
    "ps = np.arange(0,200, 0.1)\n",
    "profits = profit(ps, 0.1, -3.4)\n",
    "\n",
    "plt.plot(ps, profits)\n",
    "plt.show()\n",
    "\n",
    "max_p = ps[np.argmax(profits)]\n",
    "print(f\"Optimal price = {max_p}\")\n",
    "print(f\"Profit = {profit(max_p, 0.1, -3.4)} - 10 = {profit(max_p, 0.1, -3.4) - 10}\")"
   ]
  },
  {
   "cell_type": "markdown",
   "metadata": {},
   "source": [
    "Advertising campaign increase profit so it is expedient."
   ]
  },
  {
   "cell_type": "markdown",
   "metadata": {},
   "source": [
    "## Task 2"
   ]
  },
  {
   "cell_type": "markdown",
   "metadata": {},
   "source": [
    "### 1"
   ]
  },
  {
   "cell_type": "code",
   "execution_count": 7,
   "metadata": {},
   "outputs": [
    {
     "name": "stdout",
     "output_type": "stream",
     "text": [
      "A = 0.09373065550147375, B = -3.0195444856202194\n"
     ]
    }
   ],
   "source": [
    "from scipy.optimize import curve_fit\n",
    "\n",
    "prices = np.array([25, 20, 15,  13, 10])\n",
    "sales  = np.array([2,  3,  5.2, 6,  8])\n",
    "\n",
    "def demand(x, a, b):\n",
    "    return np.exp(-1*a*x - b)\n",
    "\n",
    "a,b = curve_fit(demand, prices, sales)[0]\n",
    "\n",
    "print(f\"A = {a}, B = {b}\")"
   ]
  },
  {
   "cell_type": "markdown",
   "metadata": {},
   "source": [
    "### 2"
   ]
  },
  {
   "cell_type": "code",
   "execution_count": 8,
   "metadata": {},
   "outputs": [
    {
     "name": "stdout",
     "output_type": "stream",
     "text": [
      "A = 0.08552633911849611, B = -3.0848268264700325\n"
     ]
    }
   ],
   "source": [
    "prices_2 = np.array([25, 22, 18, 15, 11])\n",
    "sales_2  = np.array([2,  3,  5,  7,  8])\n",
    "\n",
    "a_2,b_2 = curve_fit(demand, prices_2, sales_2)[0]\n",
    "\n",
    "print(f\"A = {a_2}, B = {b_2}\")"
   ]
  },
  {
   "cell_type": "markdown",
   "metadata": {},
   "source": [
    "### Optimal prices and profits for 1 and 2"
   ]
  },
  {
   "cell_type": "code",
   "execution_count": 9,
   "metadata": {},
   "outputs": [
    {
     "name": "stdout",
     "output_type": "stream",
     "text": [
      "     fun: -60.59582500443772\n",
      "    nfev: 18\n",
      "     nit: 10\n",
      " success: True\n",
      "       x: 13.168868213759035\n",
      "----\n",
      "     fun: -72.93987200208392\n",
      "    nfev: 18\n",
      "     nit: 10\n",
      " success: True\n",
      "       x: 14.192304614964502\n"
     ]
    }
   ],
   "source": [
    "from scipy.optimize import minimize_scalar\n",
    "\n",
    "def TC(q):\n",
    "    return 3 + 2.5 * q\n",
    "def profit(p, a, b):\n",
    "    q = demand(p, a, b)\n",
    "    return q * p - TC(q)\n",
    "\n",
    "def loss(x):\n",
    "    return -1 * profit(x, a, b)\n",
    "def loss2(x):\n",
    "    return -1 * profit(x, a_2, b_2)\n",
    "\n",
    "minimization_1 = minimize_scalar(loss)\n",
    "print(minimization_1)\n",
    "\n",
    "print(\"----\")\n",
    "minimization_2 = minimize_scalar(loss2)\n",
    "print(minimization_2)"
   ]
  },
  {
   "cell_type": "markdown",
   "metadata": {},
   "source": [
    "-----\n",
    "Optimal price for 1st table is 13.16 and for 2nd is 14.19"
   ]
  },
  {
   "cell_type": "code",
   "execution_count": 10,
   "metadata": {},
   "outputs": [
    {
     "name": "stdout",
     "output_type": "stream",
     "text": [
      "Profit for 1 = 60.59582500443772\n",
      "Profit for 2 = 72.93987200208392\n"
     ]
    }
   ],
   "source": [
    "profit_1 = profit(minimization_1['x'], a, b)\n",
    "profit_2 = profit(minimization_2['x'], a_2, b_2)\n",
    "print(f\"Profit for 1 = {profit_1}\")\n",
    "print(f\"Profit for 2 = {profit_2}\")"
   ]
  },
  {
   "cell_type": "markdown",
   "metadata": {},
   "source": [
    "### Combine 1 and 2 "
   ]
  },
  {
   "cell_type": "code",
   "execution_count": 11,
   "metadata": {},
   "outputs": [
    {
     "name": "stdout",
     "output_type": "stream",
     "text": [
      "     fun: -133.39022678636098\n",
      "    nfev: 18\n",
      "     nit: 10\n",
      " success: True\n",
      "       x: 13.702602771056915\n",
      "Profit for 1 and 2 = 72.87137836497533\n"
     ]
    }
   ],
   "source": [
    "def loss_1_and_2(x):\n",
    "    return loss(x) + loss2(x)\n",
    "\n",
    "minimization_1_and_2 = minimize_scalar(loss_1_and_2)\n",
    "print(minimization_1_and_2)\n",
    "profit_1_and_2 = profit(minimization_1_and_2['x'], a_2, b_2)\n",
    "print(f\"Profit for 1 and 2 = {profit_1_and_2}\")"
   ]
  },
  {
   "cell_type": "markdown",
   "metadata": {},
   "source": [
    "---\n",
    "Optimal price = 13.70 and profit = 72.87"
   ]
  },
  {
   "cell_type": "markdown",
   "metadata": {},
   "source": [
    "### Conclusion\n",
    "\n",
    "Profit would be bigger in case we use both tables. Because as we see in combined model with same price 13 we have bigger profit 72.87."
   ]
  },
  {
   "cell_type": "markdown",
   "metadata": {},
   "source": [
    "## Task 3"
   ]
  },
  {
   "cell_type": "code",
   "execution_count": 12,
   "metadata": {},
   "outputs": [
    {
     "name": "stdout",
     "output_type": "stream",
     "text": [
      "       Left Middle Right  \n",
      "Up     1;1  2;3    0;2               \n",
      "Down   0;3  3;1    2;4               \n"
     ]
    }
   ],
   "source": [
    "print(\"       Left Middle Right  \")\n",
    "print(\"Up     1;1  2;3    0;2               \")\n",
    "print(\"Down   0;3  3;1    2;4               \")"
   ]
  },
  {
   "cell_type": "markdown",
   "metadata": {},
   "source": [
    "Find balance in above game.\n",
    "\n",
    "1) Left column is winning only for 2nd player. We can ignore it\n",
    "2) UP row is winning only for 2nd player as well.\n",
    "3) While 1st player choose Down 2nd player would prefer Right because it'd has a max profit for him\n",
    "\n",
    "So my balance game is: 1st player choose Down and 2nd Right."
   ]
  },
  {
   "cell_type": "markdown",
   "metadata": {},
   "source": [
    "### Task 4"
   ]
  },
  {
   "cell_type": "code",
   "execution_count": 13,
   "metadata": {},
   "outputs": [
    {
     "name": "stdout",
     "output_type": "stream",
     "text": [
      "             |   Гонорар $20    |   Гонорар $25   |\n",
      "________________________________________________\n",
      "Гонорар $20   |   $100; $100    |   $150; $50    |\n",
      "Гонорар $25   |   $50; $150     |   $85; $85     |\n"
     ]
    }
   ],
   "source": [
    "print(\"             |   Гонорар $20    |   Гонорар $25   |\")\n",
    "print(\"________________________________________________\")\n",
    "print(\"Гонорар $20   |   $100; $100    |   $150; $50    |\")\n",
    "print(\"Гонорар $25   |   $50; $150     |   $85; $85     |\")"
   ]
  },
  {
   "cell_type": "markdown",
   "metadata": {},
   "source": [
    "Nash equilibrium in this game would be to choose $25 for every company.\n",
    "\n",
    "That's because doesn't matter which decision made another company, the best decision for your would be choose $25 for max profit. "
   ]
  },
  {
   "cell_type": "markdown",
   "metadata": {},
   "source": [
    "### Task 5\n",
    "\n",
    "\n",
    "$ Q_a = 100 - p_a + 0.5p_b $ AND $ Q_b = 100 - p_b + 0.5p_a $\n",
    "\n",
    "$ p_a = 100 + 0.5p_b - Q_a = 100 + 0.5*(100 - Q_b + 0.5p_a) - Q_a= 200 - \\dfrac{2}{3}Q_b - \\dfrac{4}{3}Q_a$\n",
    "\n",
    "$ p_b = 200 - \\dfrac{2}{3}Q_a - \\dfrac{4}{3}Q_b$\n",
    "\n",
    "\n",
    "$ TC_a = с(Q_a) = 600 + 10 \\times Q_a + 0.25 \\times Q^2_a$\n",
    "\n",
    "$ TC_b = с(Q_a) = 25Q_b+ 0.5Q_b^2$"
   ]
  },
  {
   "cell_type": "markdown",
   "metadata": {},
   "source": [
    "Company A would maximize profit using fixed B policy:\n",
    "\n",
    "$ Profit_a = p_a \\times Q_a - TC_a = (200 - \\dfrac{2}{3}Q_b - \\dfrac{4}{3}Q_a)\\times Q_a - (600 + 10 \\times Q_a + 0.25 \\times Q^2_a)$\n",
    "\n",
    "$ Profit_a = -600 + 190\\times Q_a - \\dfrac{19}{12}Q^2_a - \\dfrac{2}{3}Q_aQ_b$\n",
    "\n",
    "\n",
    "Reaction A on B strategy:\n",
    "\n",
    "$ MP_A = 190 - \\dfrac{19}{12}Q_a - \\dfrac{2}{3}Q_b $\n",
    "\n",
    "\n",
    "$190 - \\dfrac{19}{12}Q_a - \\dfrac{2}{3}Q_b  = 0$\n",
    "\n",
    "$Q_a = 60 - \\dfrac{4}{19}Q_b$"
   ]
  },
  {
   "cell_type": "code",
   "execution_count": 15,
   "metadata": {},
   "outputs": [
    {
     "data": {
      "text/plain": [
       "[<matplotlib.lines.Line2D at 0x10158c8f98>]"
      ]
     },
     "execution_count": 15,
     "metadata": {},
     "output_type": "execute_result"
    },
    {
     "data": {
      "image/png": "[encoded data removed]",
      "text/plain": [
       "<matplotlib.figure.Figure at 0x1015889b70>"
      ]
     },
     "metadata": {},
     "output_type": "display_data"
    }
   ],
   "source": [
    "B = np.arange(0,300, 0.1)\n",
    "\n",
    "A = 60 - (4/19) * B\n",
    "\n",
    "plt.plot(B,A)"
   ]
  },
  {
   "cell_type": "markdown",
   "metadata": {},
   "source": [
    "Company B maximize profit knowing that A would react on their strategy:\n",
    "\n",
    "$ Profit_b = p_b \\times Q_b - TC_b = (200 - \\dfrac{2}{3}Q_a - \\dfrac{4}{3}Q_b)\\times Q_b - (25Q_b+ 0.5Q_b^2)$\n",
    "\n",
    "$ Profit_b = 135Q_b - \\dfrac{93}{114}Q^2_b$\n",
    "\n",
    "\n",
    "$MP_b = 135 - \\dfrac{93}{57}Q_b$\n",
    "\n",
    "$Q_b = \\dfrac{135 \\times 57}{93}$"
   ]
  },
  {
   "cell_type": "code",
   "execution_count": 18,
   "metadata": {},
   "outputs": [
    {
     "name": "stdout",
     "output_type": "stream",
     "text": [
      "Optimal Q_a = 42.58064516129032      |     Q_b = 82.74193548387096\n",
      "P_a         = 88.06451612903227      |     P_b = 61.29032258064518\n",
      "Profit_a    = 2270.7596253902198 | Profit_b = 5585.080645161291\n"
     ]
    }
   ],
   "source": [
    "Q_b = (135*57)/93\n",
    "Q_a = 60 - (4/19) * Q_b\n",
    "\n",
    "p_a = 200 - (2/3)*Q_b - (4/3)*Q_a\n",
    "p_b = 200 - (2/3)*Q_a - (4/3)*Q_b\n",
    "\n",
    "Profit_a = -600 + 190 * Q_a - (19/12)*Q_a**2- (2/3)*Q_a*Q_b\n",
    "Profit_b = 135*Q_b  - (93/114)*Q_b**2\n",
    "\n",
    "print(f\"Optimal Q_a = {Q_a}      |     Q_b = {Q_b}\")\n",
    "print(f\"P_a         = {p_a}      |     P_b = {p_b}\")\n",
    "print(f\"Profit_a    = {Profit_a} | Profit_b = {Profit_b}\")"
   ]
  },
  {
   "cell_type": "markdown",
   "metadata": {},
   "source": [
    "## Task 6"
   ]
  },
  {
   "cell_type": "markdown",
   "metadata": {},
   "source": [
    "Company A maximize profit on fixed strategy of b:\n",
    "\n",
    "$Profit_a = p_a \\times Q_a - TC_a = p_a \\times (100 - p_a + 0.5p_b) - (600 + 10 \\times Q_a + 0.25 \\times Q^2_a)$\n",
    "\n",
    "$Profit_a = 100p_a - p^2_a + 0.5p_a p_b - 600 - 10\\times(100 - p_a + 0.5p_b) - 0.25\\times(100 - p_a + 0.5p_b)^2$\n",
    "\n",
    "$MP_a = 100 - 2p_a + 0.5p_b - 10 - 0.25\\times(2p_a - p_b - 200)^2 = 160 - \\dfrac{5}{4}p_a+ \\dfrac{3}{4}p_b$ \n",
    "\n",
    "---\n",
    "\n",
    "$Profit_b = p_b \\times Q_b - TC_b = p_b \\times (100 - p_b + 0.5p_a) - ( 25Q_b+ 0.5Q_b^2 )$\n",
    "\n",
    "$Profit_b = 100p_b - p_b^2 + 0.5p_bp_a - 25(100 - p_b + 0.5p_a) - 0.5(100 + 0.5p_a - p_b)^2$\n",
    "\n",
    "$MP_b = 100 - 2p_b + 0.5p_a - 25 - 0.5(200 + p_a - 2p_b)^2 = 225 - 3p_b + p_a$\n",
    "\n",
    "\n",
    "Solve linear equation where MP_a = 0 and MP_b = 0.\n",
    "\n",
    "$P_a = 206.25$ AND $P_b = 143.75$"
   ]
  },
  {
   "cell_type": "code",
   "execution_count": 22,
   "metadata": {},
   "outputs": [
    {
     "name": "stdout",
     "output_type": "stream",
     "text": [
      "price A = 206.25, price B = 143.75\n",
      "Optimals: Q_a = -34.375, Q_b = 59.375\n",
      "Profit_a = -7641.50390625, Profit_b = 5288.0859375\n"
     ]
    }
   ],
   "source": [
    "p_a = 206.25\n",
    "p_b = 143.75\n",
    "\n",
    "Q_a = 100 - p_a + 0.5*p_b\n",
    "Q_b = 100 - p_b + 0.5*p_a\n",
    "\n",
    "TC_a = 600 + 10 * Q_a + 0.25 * Q_a**2\n",
    "TC_b = 25*Q_b+ 0.5*Q_b**2\n",
    "\n",
    "Profit_a = p_a*Q_a - TC_a\n",
    "Profit_b = p_b*Q_b - TC_b\n",
    "\n",
    "print(f\"price A = {p_a}, price B = {p_b}\")\n",
    "print(f\"Optimals: Q_a = {Q_a}, Q_b = {Q_b}\")\n",
    "print(f\"Profit_a = {Profit_a}, Profit_b = {Profit_b}\")"
   ]
  },
  {
   "cell_type": "code",
   "execution_count": 26,
   "metadata": {},
   "outputs": [
    {
     "data": {
      "text/plain": [
       "<matplotlib.legend.Legend at 0x1015b83cf8>"
      ]
     },
     "execution_count": 26,
     "metadata": {},
     "output_type": "execute_result"
    },
    {
     "data": {
      "image/png": "[encoded data removed]",
      "text/plain": [
       "<matplotlib.figure.Figure at 0x101598ff28>"
      ]
     },
     "metadata": {},
     "output_type": "display_data"
    }
   ],
   "source": [
    "prices = np.arange(0,500, 0.1)\n",
    "\n",
    "reaction_a = 5*prices - 600\n",
    "reaction_a = reaction_a / 3\n",
    "\n",
    "reaction_b = prices + 225\n",
    "reaction_b = reaction_b / 3\n",
    "\n",
    "plt.plot(prices, reaction_a, \"r-\",  label=\"A reaction\")\n",
    "plt.plot(prices, reaction_b, \"b--\", label=\"B reaction\")\n",
    "\n",
    "plt.legend()"
   ]
  },
  {
   "cell_type": "code",
   "execution_count": null,
   "metadata": {},
   "outputs": [],
   "source": []
  }
 ],
 "metadata": {
  "kernelspec": {
   "display_name": "Python 3",
   "language": "python",
   "name": "python3"
  },
  "language_info": {
   "codemirror_mode": {
    "name": "ipython",
    "version": 3
   },
   "file_extension": ".py",
   "mimetype": "text/x-python",
   "name": "python",
   "nbconvert_exporter": "python",
   "pygments_lexer": "ipython3",
   "version": "3.6.5"
  }
 },
 "nbformat": 4,
 "nbformat_minor": 2
}
